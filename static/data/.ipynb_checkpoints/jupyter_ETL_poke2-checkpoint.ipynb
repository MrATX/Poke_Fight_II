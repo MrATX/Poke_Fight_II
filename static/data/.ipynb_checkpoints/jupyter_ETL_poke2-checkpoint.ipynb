{
 "cells": [
  {
   "cell_type": "code",
   "execution_count": 14,
   "metadata": {},
   "outputs": [],
   "source": [
    "import pandas as pd\n",
    "import pymongo\n",
    "### Pokedex ---------------------------\n",
    "# Read & Clean Data\n",
    "pokemon = pd.read_csv(\"Pokemon.csv\")\n",
    "pokemon = pokemon.iloc[:,1:]\n",
    "pokemon = pokemon.drop(columns=[\"Type 2\"])\n",
    "# Create Variables\n",
    "gen_list = pokemon.loc[:,\"Generation\"].unique()\n",
    "pokedex_fields = [\"name\",\"type1\",\"total\",\"hp\",\"attack\",\"defense\",\"spatk\",\"spdef\",\"speed\",\"generation\"]\n",
    "pokedex_dict = {}\n",
    "wip_dict_gen = {}\n",
    "wip_dict_poke = {}\n",
    "# Subset Legendary Pokemon\n",
    "legends = pokemon.loc[(pokemon[\"Legendary\"]==\"Yes\")&(pokemon[\"Mega\"]==\"No\")].reset_index()\n",
    "legends = legends.iloc[:,1:]\n",
    "# Filter Pokemon >500 Total Power, Non-Legendary, Non-Mega\n",
    "pokemon = pokemon.loc[(pokemon[\"Total\"]>=500)&(pokemon[\"Legendary\"] ==\"No\")&(pokemon[\"Mega\"]==\"No\")].reset_index()\n",
    "pokemon = pokemon.iloc[:,1:]"
   ]
  },
  {
   "cell_type": "code",
   "execution_count": 15,
   "metadata": {},
   "outputs": [],
   "source": [
    "# Populate Pokedex dict of dicts with all filtered Pokemon, sorted into generations\n",
    "for i in gen_list:\n",
    "    wip_df = pokemon.loc[pokemon[\"Generation\"]==i,:]\n",
    "    for j in range(len(wip_df)):\n",
    "        for k in range(len(pokedex_fields)):\n",
    "            if type(wip_df.iloc[j,k])==str:\n",
    "                wip_dict_poke[pokedex_fields[k]]=(wip_df.iloc[j,k])\n",
    "            else:\n",
    "                wip_dict_poke[pokedex_fields[k]]=(wip_df.iloc[j,k].item())\n",
    "        wip_dict_gen[wip_df.iloc[j,0]] = (wip_dict_poke)\n",
    "        wip_dict_poke = {}\n",
    "    pokedex_dict[f\"Generation {i}\"]=(wip_dict_gen)\n",
    "    wip_dict_gen = {}"
   ]
  },
  {
   "cell_type": "code",
   "execution_count": 16,
   "metadata": {},
   "outputs": [],
   "source": [
    "# Add Legendary Pokemon dict to Pokedex\n",
    "for i in range(len(legends)):\n",
    "    for j in range(len(pokedex_fields)):\n",
    "        if type(legends.iloc[i,j])==str:\n",
    "            wip_dict_poke[pokedex_fields[j]]=(legends.iloc[i,j])\n",
    "        else:\n",
    "            wip_dict_poke[pokedex_fields[j]]=(legends.iloc[i,j].item())\n",
    "    wip_dict_gen[legends.iloc[i,0]] = (wip_dict_poke)\n",
    "    wip_dict_poke = {}\n",
    "pokedex_dict[\"Legendary\"] = (wip_dict_gen)\n",
    "wip_dict_gen = {}"
   ]
  },
  {
   "cell_type": "code",
   "execution_count": 17,
   "metadata": {},
   "outputs": [],
   "source": [
    "### Combat Vars ---------------------------------\n",
    "# Read Data\n",
    "type_matchups = pd.read_csv(\"type_matchups.csv\").set_index(\"TYPE\")\n",
    "# Create Variables\n",
    "type_coeffs = {}\n",
    "wip_dict_type = {}\n",
    "types = []\n",
    "for i in type_matchups:\n",
    "    if i != \"TYPE\":\n",
    "        types.append(i)"
   ]
  },
  {
   "cell_type": "code",
   "execution_count": 18,
   "metadata": {},
   "outputs": [],
   "source": [
    "# Populate type_coeffs dict and push to combat vars\n",
    "for i in range(len(types)):\n",
    "    for j in range(len(types)):\n",
    "        if type(type_matchups.loc[types[i],types[j]])==str:\n",
    "            wip_dict_type[types[j]]=(type_matchups.loc[types[i],types[j]])\n",
    "        else:\n",
    "            wip_dict_type[types[j]]=(type_matchups.loc[types[i],types[j]].item())\n",
    "    type_coeffs[types[i]]=(wip_dict_type)\n",
    "    wip_dict_type = {}\n",
    "combat_vars_dict = {}\n",
    "combat_vars_dict[\"type_matchups\"]=(type_coeffs)"
   ]
  },
  {
   "cell_type": "code",
   "execution_count": 19,
   "metadata": {},
   "outputs": [
    {
     "name": "stdout",
     "output_type": "stream",
     "text": [
      "done\n"
     ]
    }
   ],
   "source": [
    "# MongoDB stuffs ----------------------------------------\n",
    "# Establish DB Connection (Local for meow)\n",
    "conn = 'mongodb://localhost:27017'\n",
    "client = pymongo.MongoClient(conn)\n",
    "# Define DB\n",
    "db = client.pokefight2\n",
    "# Clear and Populate Collections\n",
    "# Pokedex\n",
    "pokedex = db.pokedex\n",
    "pokedex.drop()\n",
    "pokedex.insert_one(pokedex_dict)\n",
    "# Combat Variables\n",
    "combat_vars = db.combat_vars\n",
    "combat_vars.drop()\n",
    "combat_vars.insert_one(combat_vars_dict)\n",
    "# Rosters for Current Match\n",
    "#rosters = db.rosters\n",
    "#rosters.drop()\n",
    "#rosters.insert_one(rosters_dict)\n",
    "# Active Pokemon in Combat\n",
    "#active = db.active\n",
    "#active.drop()\n",
    "#active.insert_one(active_dict)\n",
    "print(\"done\")"
   ]
  },
  {
   "cell_type": "code",
   "execution_count": 21,
   "metadata": {},
   "outputs": [
    {
     "data": {
      "text/plain": [
       "<pymongo.results.InsertOneResult at 0x24e895f7988>"
      ]
     },
     "execution_count": 21,
     "metadata": {},
     "output_type": "execute_result"
    }
   ],
   "source": [
    "import pandas as pd\n",
    "import pymongo\n",
    "### Pokedex ---------------------------\n",
    "# Read & Clean Data\n",
    "pokemon = pd.read_csv(\"Pokemon.csv\")\n",
    "pokemon = pokemon.iloc[:,1:]\n",
    "pokemon = pokemon.drop(columns=[\"Type 2\"])\n",
    "# Create Variables\n",
    "gen_list = pokemon.loc[:,\"Generation\"].unique()\n",
    "pokedex_fields = [\"name\",\"type1\",\"total\",\"hp\",\"attack\",\"defense\",\"spatk\",\"spdef\",\"speed\",\"generation\"]\n",
    "pokedex_dict = {}\n",
    "wip_dict_gen = {}\n",
    "wip_dict_poke = {}\n",
    "# Subset Legendary Pokemon\n",
    "legends = pokemon.loc[(pokemon[\"Legendary\"]==\"Yes\")&(pokemon[\"Mega\"]==\"No\")].reset_index()\n",
    "legends = legends.iloc[:,1:]\n",
    "# Filter Pokemon >500 Total Power, Non-Legendary, Non-Mega\n",
    "pokemon = pokemon.loc[(pokemon[\"Total\"]>=500)&(pokemon[\"Legendary\"] ==\"No\")&(pokemon[\"Mega\"]==\"No\")].reset_index()\n",
    "pokemon = pokemon.iloc[:,1:]\n",
    "# Populate Pokedex dict of dicts with all filtered Pokemon, sorted into generations\n",
    "for i in gen_list:\n",
    "    wip_df = pokemon.loc[pokemon[\"Generation\"]==i,:]\n",
    "    for j in range(len(wip_df)):\n",
    "        for k in range(len(pokedex_fields)):\n",
    "            if type(wip_df.iloc[j,k])==str:\n",
    "                wip_dict_poke[pokedex_fields[k]]=(wip_df.iloc[j,k])\n",
    "            else:\n",
    "                wip_dict_poke[pokedex_fields[k]]=(wip_df.iloc[j,k].item())\n",
    "        wip_dict_gen[wip_df.iloc[j,0]] = (wip_dict_poke)\n",
    "        wip_dict_poke = {}\n",
    "    pokedex_dict[f\"Generation {i}\"]=(wip_dict_gen)\n",
    "    wip_dict_gen = {}\n",
    "# Add Legendary Pokemon dict to Pokedex\n",
    "for i in range(len(legends)):\n",
    "    for j in range(len(pokedex_fields)):\n",
    "        if type(legends.iloc[i,j])==str:\n",
    "            wip_dict_poke[pokedex_fields[j]]=(legends.iloc[i,j])\n",
    "        else:\n",
    "            wip_dict_poke[pokedex_fields[j]]=(legends.iloc[i,j].item())\n",
    "    wip_dict_gen[legends.iloc[i,0]] = (wip_dict_poke)\n",
    "    wip_dict_poke = {}\n",
    "pokedex_dict[\"Legendary\"] = (wip_dict_gen)\n",
    "wip_dict_gen = {}\n",
    "### Combat Vars ---------------------------------\n",
    "# Read Data\n",
    "type_matchups = pd.read_csv(\"type_matchups.csv\").set_index(\"TYPE\")\n",
    "# Create Variables\n",
    "type_coeffs = {}\n",
    "wip_dict_type = {}\n",
    "types = []\n",
    "for i in type_matchups:\n",
    "    if i != \"TYPE\":\n",
    "        types.append(i)\n",
    "# Populate type_coeffs dict and push to combat vars\n",
    "for i in range(len(types)):\n",
    "    for j in range(len(types)):\n",
    "        if type(type_matchups.loc[types[i],types[j]])==str:\n",
    "            wip_dict_type[types[j]]=(type_matchups.loc[types[i],types[j]])\n",
    "        else:\n",
    "            wip_dict_type[types[j]]=(type_matchups.loc[types[i],types[j]].item())\n",
    "    type_coeffs[types[i]]=(wip_dict_type)\n",
    "    wip_dict_type = {}\n",
    "combat_vars_dict = {}\n",
    "combat_vars_dict[\"type_matchups\"]=(type_coeffs)\n",
    "# MongoDB stuffs ----------------------------------------\n",
    "# Establish DB Connection (Local for meow)\n",
    "conn = 'mongodb://localhost:27017'\n",
    "client = pymongo.MongoClient(conn)\n",
    "# Define DB\n",
    "db = client.pokefight2\n",
    "# Clear and Populate Collections\n",
    "# Pokedex\n",
    "pokedex = db.pokedex\n",
    "pokedex.drop()\n",
    "pokedex.insert_one(pokedex_dict)\n",
    "# Combat Variables\n",
    "combat_vars = db.combat_vars\n",
    "combat_vars.drop()\n",
    "combat_vars.insert_one(combat_vars_dict)\n",
    "# Rosters for Current Match\n",
    "#rosters = db.rosters\n",
    "#rosters.drop()\n",
    "#rosters.insert_one(rosters_dict)\n",
    "# Active Pokemon in Combat\n",
    "#active = db.active\n",
    "#active.drop()\n",
    "#active.insert_one(active_dict)"
   ]
  }
 ],
 "metadata": {
  "kernelspec": {
   "display_name": "Python 3",
   "language": "python",
   "name": "python3"
  },
  "language_info": {
   "codemirror_mode": {
    "name": "ipython",
    "version": 3
   },
   "file_extension": ".py",
   "mimetype": "text/x-python",
   "name": "python",
   "nbconvert_exporter": "python",
   "pygments_lexer": "ipython3",
   "version": "3.6.5"
  }
 },
 "nbformat": 4,
 "nbformat_minor": 2
}
